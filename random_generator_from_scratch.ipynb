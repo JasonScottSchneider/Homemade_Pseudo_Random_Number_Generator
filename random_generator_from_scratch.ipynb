{
 "cells": [
  {
   "cell_type": "markdown",
   "id": "inclusive-michael",
   "metadata": {},
   "source": [
    "## Building a Random Generator from Scratch\n",
    "<p>Here is an elegant, yet simple, explanation that I found how number generators work.</p>\n",
    "<blockquote>\n",
    "<p>A random seed specifies the start point when a computer generates a random number sequence. This can be any number, but it usually comes from seconds on a computer system’s clock (Henkemans & Lee, 2001).</p>\n",
    "<p>Why are Seeds Needed?</p>\n",
    "<p>Computers don’t generate truly random numbers—they are deterministic, which means that they operate by a set of rules. You can mimic randomness by specifying a set of rules. For example, “take a number x, add 900 +x, then subtract 52.” In order for the process to start, you have to specify a starting number, x (the seed). Let’s take the starting number 77:</p>\n",
    "<p>Add 900 + 77 = 977</p>\n",
    "<p>Subtract 52 = 925</p>\n",
    "<p>Following the same algorithm, the second “random” number would be:</p>\n",
    "<p>900 + 925 = 1825</p>\n",
    "<p>Subtract 52 = 1773</p>\n",
    "<p>This simple example follows a pattern, but the algorithms behind computer number generation are much more complicated (based on distributions like the Bernoulli distribution or Poisson distribution), mimicking randomness much better than I can do here. But the process still follows a pattern, which will be repeated the next time you enter 77 or 99, or whatever number you choose into the “random seed” box. (Taghizadeh, 2019)</p>\n",
    "</blockquote>\n",
    "<p>Therefore, random generators are not really random, hence pseudo, unlike quantum random generators. Essentially, the seed goes through an algorithm that manipulates it, making the result appear truly random. The interesting thing is that random generators for most computer languages have a seed set by the computer's clock in seconds. This is where the heart of pseudo randomness is before it undergoes manipulation from the constants <em>a</em> and <em>m</em> within the algorithm's formula.</p>\n",
    "<p>*************************************<p>\n",
    "<p>Furthermore, Sheldon Ross, author of <em>Simulation</em> 4th edition, states, on page 42, that \"We want to choose the constants <em>a</em> and <em>m</em> so that, for any initial seed x<sub>0</sub>, the number of variables that can be generated before this repetition occurs is [too] large.... [The constant] m should be chosen to be a large prime number that can be fitted to the computer word size. For a 32-bit word machine (where the first bit is a sign bit), it has been shown that the choices of <em>m</em> = 2<sup>31</sup>-1 and <em>a</em> = 7<sup>5</sup> = 16,807 result in desirable properties.\"</p>\n",
    "<p>Therefore, in our case, <em>m</em> will equal mod (i.e., modulo), and <em>a</em> will equal mult (i.e., multiplier/coefficient).</p>\n",
    "<p>*************************************<p>\n",
    "<p><center>References</center></p>\n",
    "<p>Ross, S. M. (2006). <em>Simulation</em>. Amsterdam: Elsevier Academic Press.</p>\n",
    "<p>Taghizadeh, Elham. (2019). Re: Can someone explain what is seed in generating a random number?. Retrieved from: https://www.researchgate.net/post/Can-someone-explain-what-is-seed-in-generating-a-random-number/5d7d10bdf0fb62656d37ded3/citation/download. </p>"
   ]
  },
  {
   "cell_type": "code",
   "execution_count": 1,
   "id": "early-contractor",
   "metadata": {},
   "outputs": [],
   "source": [
    "import numpy as np\n",
    "def pseudo_uniform_good(mult=16807,\n",
    "                       mod=(2**31)-1,\n",
    "                       seed=123456789, # pick a starting number\n",
    "                       size=1):\n",
    "    \"\"\"\n",
    "    A reasonably good pseudo random generator\n",
    "    \"\"\"\n",
    "    U=np.zeros(size) # create an array with zero as a float\n",
    "    #print(\"U: \",U)\n",
    "    \n",
    "    # generate the random number in the algorithm consisting of the seed and constants\n",
    "    x=(seed*mult+1)%mod\n",
    "    #print(\"x: \",x)\n",
    "    \n",
    "    U[0]=x/mod\n",
    "    #print(\"U[0]: \",U[0])\n",
    "    \n",
    "    for i in range(1,size):\n",
    "        x=(x*mult+1)%mod\n",
    "        U[i]=x/mod\n",
    "    #print(\"U: \",U)\n",
    "    return U  "
   ]
  },
  {
   "cell_type": "code",
   "execution_count": 2,
   "id": "associate-destiny",
   "metadata": {},
   "outputs": [],
   "source": [
    "def pseudo_uniform(low=0,\n",
    "                  high=1,\n",
    "                  seed=123456789,\n",
    "                  size=1):\n",
    "    \"\"\"\n",
    "    Generates uniformly random number between 'low' and 'high' limits\n",
    "    \"\"\"\n",
    "    return low+(high-low)*pseudo_uniform_good(seed=seed,size=size)"
   ]
  },
  {
   "cell_type": "code",
   "execution_count": 3,
   "id": "general-accused",
   "metadata": {},
   "outputs": [
    {
     "data": {
      "image/png": "[encoded data removed]",
      "text/plain": [
       "<Figure size 432x288 with 1 Axes>"
      ]
     },
     "metadata": {
      "needs_background": "light"
     },
     "output_type": "display_data"
    }
   ],
   "source": [
    "import matplotlib.pyplot as plt\n",
    "\n",
    "# plot the distribution of pseudo random numbers\n",
    "l=pseudo_uniform(low=-5,high=7,size=10000)\n",
    "plt.hist(l,bins=20,edgecolor='k')\n",
    "plt.xticks(fontsize=15)\n",
    "plt.yticks(fontsize=15)\n",
    "plt.xlim(-6,8)\n",
    "plt.show()"
   ]
  },
  {
   "cell_type": "code",
   "execution_count": 4,
   "id": "saved-invalid",
   "metadata": {},
   "outputs": [],
   "source": [
    "import time\n",
    "def sample_pick(lst):\n",
    "    \"\"\"\n",
    "    Picks up a random sample from a given list\n",
    "    \"\"\"\n",
    "    # sets seed based on the decimal portion of the current system clock\n",
    "    t=time.perf_counter() # return the float value of time in seconds\n",
    "    #print(\"t: \",t)\n",
    "    \n",
    "    # create a new seed based on time in seconds\n",
    "    seed=int(10**9*float(str(t-int(t))[0:]))\n",
    "    #print(\"seed: \",seed)\n",
    "    \n",
    "    # random sample as an index\n",
    "    \n",
    "    l=len(lst) # get the length of the list\n",
    "    #print(\"l: \",l)\n",
    "    \n",
    "    # use length of list for the upper limit\n",
    "    # generate a pseudo random number\n",
    "    s=pseudo_uniform(low=0,high=l,seed=seed,size=1)\n",
    "    #print(\"s: \",s)\n",
    "    \n",
    "    # change the random number from a float to an integer\n",
    "    idx=int(s)\n",
    "    #print(\"idx: \",idx)\n",
    "    \n",
    "    return(lst[idx])"
   ]
  },
  {
   "cell_type": "code",
   "execution_count": 5,
   "id": "silent-passing",
   "metadata": {},
   "outputs": [],
   "source": [
    "dice=['one','two','three','four','five','six']"
   ]
  },
  {
   "cell_type": "code",
   "execution_count": 6,
   "id": "straight-reporter",
   "metadata": {},
   "outputs": [
    {
     "name": "stdout",
     "output_type": "stream",
     "text": [
      "['six', 'three', 'four', 'five', 'five', 'six', 'six', 'one', 'one', 'two', 'three', 'three', 'four', 'four', 'five', 'five', 'six', 'six', 'two', 'three', 'three', 'three', 'four', 'four', 'four', 'five', 'five', 'five', 'six', 'six']\n"
     ]
    }
   ],
   "source": [
    "dice_throws=[]\n",
    "for _ in range(30):\n",
    "    dice_throws.append(sample_pick(dice))\n",
    "print(dice_throws)"
   ]
  }
 ],
 "metadata": {
  "kernelspec": {
   "display_name": "Python 3",
   "language": "python",
   "name": "python3"
  },
  "language_info": {
   "codemirror_mode": {
    "name": "ipython",
    "version": 3
   },
   "file_extension": ".py",
   "mimetype": "text/x-python",
   "name": "python",
   "nbconvert_exporter": "python",
   "pygments_lexer": "ipython3",
   "version": "3.9.2"
  }
 },
 "nbformat": 4,
 "nbformat_minor": 5
}
